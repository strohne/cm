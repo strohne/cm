{
 "cells": [
  {
   "cell_type": "code",
   "execution_count": 19,
   "metadata": {
    "collapsed": true
   },
   "outputs": [],
   "source": [
    "from pyrogram import Client\n",
    "import pandas as pd\n",
    "import os"
   ]
  },
  {
   "cell_type": "code",
   "execution_count": 3,
   "outputs": [],
   "source": [
    "api_id = 1410555\n",
    "api_hash = \"a799c56d61df1f7a0fb101c7d34e8c2e\"\n",
    "app = Client(\"mysession\", api_id=api_id, api_hash=api_hash)\n"
   ],
   "metadata": {
    "collapsed": false,
    "pycharm": {
     "name": "#%%\n"
    }
   }
  },
  {
   "cell_type": "code",
   "execution_count": 14,
   "outputs": [
    {
     "data": {
      "text/plain": "<pyrogram.client.Client at 0x19d36f93a30>"
     },
     "execution_count": 14,
     "metadata": {},
     "output_type": "execute_result"
    }
   ],
   "source": [
    "# Session starten\n",
    "await app.start()"
   ],
   "metadata": {
    "collapsed": false,
    "pycharm": {
     "name": "#%%\n"
    }
   }
  },
  {
   "cell_type": "code",
   "execution_count": 15,
   "outputs": [
    {
     "name": "stdout",
     "output_type": "stream",
     "text": [
      "{\n",
      "    \"_\": \"User\",\n",
      "    \"id\": 1172843891,\n",
      "    \"is_self\": true,\n",
      "    \"is_contact\": false,\n",
      "    \"is_mutual_contact\": false,\n",
      "    \"is_deleted\": false,\n",
      "    \"is_bot\": false,\n",
      "    \"is_verified\": false,\n",
      "    \"is_restricted\": false,\n",
      "    \"is_scam\": false,\n",
      "    \"is_fake\": false,\n",
      "    \"is_support\": false,\n",
      "    \"first_name\": \"Gregor\",\n",
      "    \"last_name\": \"Kling\",\n",
      "    \"status\": \"online\",\n",
      "    \"next_offline_date\": \"2021-06-14 00:33:19\",\n",
      "    \"username\": \"gregorkling\",\n",
      "    \"phone_number\": \"*********\"\n",
      "}\n"
     ]
    }
   ],
   "source": [
    "me = await app.get_me()\n",
    "print(me)"
   ],
   "metadata": {
    "collapsed": false,
    "pycharm": {
     "name": "#%%\n"
    }
   }
  },
  {
   "cell_type": "code",
   "execution_count": 16,
   "outputs": [
    {
     "data": {
      "text/plain": "pyrogram.types.Message(message_id=493, from_user=pyrogram.types.User(id=1172843891, is_self=True, is_contact=False, is_mutual_contact=False, is_deleted=False, is_bot=False, is_verified=False, is_restricted=False, is_scam=False, is_fake=False, is_support=False, first_name='Gregor', last_name='Kling', status='offline', last_online_date=1623623599, username='gregorkling', phone_number='491759737360'), date=1623624302, chat=pyrogram.types.Chat(id=1172843891, type='private', is_verified=False, is_restricted=False, is_scam=False, is_fake=False, is_support=False, username='gregorkling', first_name='Gregor', last_name='Kling'), mentioned=False, scheduled=False, from_scheduled=False, text='Hello from Pyrogram!', entities=pyrogram.types.List([pyrogram.types.MessageEntity(type='bold', offset=11, length=8)]), outgoing=False)"
     },
     "execution_count": 16,
     "metadata": {},
     "output_type": "execute_result"
    }
   ],
   "source": [
    "await app.send_message(\"me\", \"Hello from **Pyrogram**!\")"
   ],
   "metadata": {
    "collapsed": false,
    "pycharm": {
     "name": "#%%\n"
    }
   }
  },
  {
   "cell_type": "code",
   "execution_count": 20,
   "outputs": [],
   "source": [
    "# Kanalinformationen abfragen\n",
    "chat = await app.get_chat(\"corona_infokanal_bmg\")\n",
    "\n",
    "# ... und in ein Dict legen\n",
    "chat_dict = {}\n",
    "\n",
    "chat_dict['id'] = chat.id\n",
    "chat_dict['type'] = chat.type\n",
    "chat_dict['title'] = chat.title\n",
    "chat_dict['description'] = chat.description\n",
    "chat_dict['pinned_message'] = chat.pinned_message.text\n",
    "\n",
    "# Das Dict als CSV-Datei abspeichern\n",
    "chat_results = pd.DataFrame([chat_dict])\n",
    "chat_results.to_csv('chat_results.csv',sep=\";\",index=False)"
   ],
   "metadata": {
    "collapsed": false,
    "pycharm": {
     "name": "#%%\n"
    }
   }
  },
  {
   "cell_type": "code",
   "execution_count": 22,
   "outputs": [],
   "source": [
    "# Abfragen von Messages\n",
    "messages = await app.get_history(\"corona_infokanal_bmg\")\n",
    "print(messages)"
   ],
   "metadata": {
    "collapsed": false,
    "pycharm": {
     "name": "#%%\n"
    }
   }
  },
  {
   "cell_type": "code",
   "execution_count": 42,
   "outputs": [],
   "source": [
    "# Leere Liste, um die Mitteilungen einzusammeln\n",
    "messages_list = []\n",
    "\n",
    "# Auslesen der Daten der einzelnen Mitteilungen\n",
    "for item in messages:\n",
    "\n",
    "    message_dict = {}\n",
    "\n",
    "    message_dict['chat_id'] = item['chat']['id']\n",
    "    message_dict['message_id'] = item['message_id']\n",
    "    message_dict['date'] = item['date']\n",
    "    message_dict['text'] = item['text']\n",
    "\n",
    "    if item['photo'] is not None:\n",
    "        message_dict['caption'] = item['caption']\n",
    "        message_dict['file_id'] = item['photo']['file_id']\n",
    "        #message_dict['file_ref']= item['photo']['file_ref']\n",
    "\n",
    "    else:\n",
    "        message_dict['caption'] = None\n",
    "        message_dict['file_id'] = None\n",
    "        #message_dict['file_ref'] = None\n",
    "\n",
    "    messages_list.append(message_dict)\n",
    "\n",
    "# Umwandeln in Dataframe\n",
    "messages_results = pd.DataFrame(messages_list)\n",
    "\n",
    "# Abspeichern\n",
    "messages_results.to_csv('messages_results.csv', sep=\";\", index=False)"
   ],
   "metadata": {
    "collapsed": false,
    "pycharm": {
     "name": "#%%\n"
    }
   }
  },
  {
   "cell_type": "code",
   "execution_count": 44,
   "outputs": [
    {
     "name": "stdout",
     "output_type": "stream",
     "text": [
      "Downloading photo_-1001446651076_275.jpg\n",
      "Downloading photo_-1001446651076_273.jpg\n",
      "Downloading photo_-1001446651076_272.jpg\n",
      "Downloading photo_-1001446651076_271.jpg\n",
      "Downloading photo_-1001446651076_269.jpg\n",
      "Downloading photo_-1001446651076_268.jpg\n",
      "Downloading photo_-1001446651076_264.jpg\n",
      "Downloading photo_-1001446651076_259.jpg\n",
      "Downloading photo_-1001446651076_257.jpg\n",
      "Downloading photo_-1001446651076_255.jpg\n",
      "Downloading photo_-1001446651076_251.jpg\n",
      "Downloading photo_-1001446651076_246.jpg\n",
      "Downloading photo_-1001446651076_242.jpg\n",
      "Downloading photo_-1001446651076_238.jpg\n",
      "Downloading photo_-1001446651076_237.jpg\n",
      "Downloading photo_-1001446651076_232.jpg\n",
      "Downloading photo_-1001446651076_230.jpg\n",
      "Downloading photo_-1001446651076_227.jpg\n",
      "Downloading photo_-1001446651076_226.jpg\n",
      "Downloading photo_-1001446651076_225.jpg\n",
      "Downloading photo_-1001446651076_224.jpg\n",
      "Downloading photo_-1001446651076_223.jpg\n",
      "Downloading photo_-1001446651076_222.jpg\n",
      "Downloading photo_-1001446651076_221.jpg\n",
      "Downloading photo_-1001446651076_220.jpg\n",
      "Downloading photo_-1001446651076_219.jpg\n",
      "Downloading photo_-1001446651076_216.jpg\n",
      "Downloading photo_-1001446651076_213.jpg\n",
      "Downloading photo_-1001446651076_212.jpg\n",
      "Downloading photo_-1001446651076_210.jpg\n",
      "Downloading photo_-1001446651076_209.jpg\n",
      "Downloading photo_-1001446651076_208.jpg\n",
      "Downloading photo_-1001446651076_206.jpg\n",
      "Downloading photo_-1001446651076_205.jpg\n",
      "Downloading photo_-1001446651076_204.jpg\n",
      "Downloading photo_-1001446651076_203.jpg\n",
      "Downloading photo_-1001446651076_200.jpg\n",
      "Downloading photo_-1001446651076_198.jpg\n",
      "Downloading photo_-1001446651076_196.jpg\n",
      "Downloading photo_-1001446651076_194.jpg\n",
      "Downloading photo_-1001446651076_188.jpg\n",
      "Downloading photo_-1001446651076_185.jpg\n",
      "Downloading photo_-1001446651076_184.jpg\n",
      "Downloading photo_-1001446651076_182.jpg\n",
      "Downloading photo_-1001446651076_180.jpg\n",
      "Downloading photo_-1001446651076_179.jpg\n",
      "Downloading photo_-1001446651076_177.jpg\n"
     ]
    }
   ],
   "source": [
    "media_folder = os.getcwd() + \"/downloads/\"\n",
    "\n",
    "for item in messages_list:\n",
    "\n",
    "    if item['file_id'] is not None:\n",
    "        filename =  \"photo_\" + str(item['chat_id']) +\"_\"+ str(item['message_id']) + \".jpg\"\n",
    "        print(f\"Downloading {filename}\")\n",
    "\n",
    "        await app.download_media(item['file_id'], media_folder + filename)"
   ],
   "metadata": {
    "collapsed": false,
    "pycharm": {
     "name": "#%%\n"
    }
   }
  },
  {
   "cell_type": "code",
   "execution_count": 39,
   "outputs": [
    {
     "name": "stdout",
     "output_type": "stream",
     "text": [
      "{\n",
      "    \"_\": \"Message\",\n",
      "    \"message_id\": 275,\n",
      "    \"sender_chat\": {\n",
      "        \"_\": \"Chat\",\n",
      "        \"id\": -1001446651076,\n",
      "        \"type\": \"channel\",\n",
      "        \"is_verified\": true,\n",
      "        \"is_restricted\": false,\n",
      "        \"is_creator\": false,\n",
      "        \"is_scam\": false,\n",
      "        \"is_fake\": false,\n",
      "        \"title\": \"Corona-Infokanal des Bundesministeriums für Gesundheit\",\n",
      "        \"username\": \"corona_infokanal_bmg\",\n",
      "        \"photo\": {\n",
      "            \"_\": \"ChatPhoto\",\n",
      "            \"small_file_id\": \"AQADAgAT4eDmki4AAwIAAzzLINUW____Icd5p-tVeGEjxQMAAR4E\",\n",
      "            \"small_photo_unique_id\": \"AQAD4eDmki4AAyPFAwAB\",\n",
      "            \"big_file_id\": \"AQADAgAT4eDmki4AAwMAAzzLINUW____Icd5p-tVeGElxQMAAR4E\",\n",
      "            \"big_photo_unique_id\": \"AQAD4eDmki4AAyXFAwAB\"\n",
      "        },\n",
      "        \"dc_id\": 2\n",
      "    },\n",
      "    \"date\": \"2021-06-11 17:33:21\",\n",
      "    \"chat\": {\n",
      "        \"_\": \"Chat\",\n",
      "        \"id\": -1001446651076,\n",
      "        \"type\": \"channel\",\n",
      "        \"is_verified\": true,\n",
      "        \"is_restricted\": false,\n",
      "        \"is_creator\": false,\n",
      "        \"is_scam\": false,\n",
      "        \"is_fake\": false,\n",
      "        \"title\": \"Corona-Infokanal des Bundesministeriums für Gesundheit\",\n",
      "        \"username\": \"corona_infokanal_bmg\",\n",
      "        \"photo\": {\n",
      "            \"_\": \"ChatPhoto\",\n",
      "            \"small_file_id\": \"AQADAgAT4eDmki4AAwIAAzzLINUW____Icd5p-tVeGEjxQMAAR4E\",\n",
      "            \"small_photo_unique_id\": \"AQAD4eDmki4AAyPFAwAB\",\n",
      "            \"big_file_id\": \"AQADAgAT4eDmki4AAwMAAzzLINUW____Icd5p-tVeGElxQMAAR4E\",\n",
      "            \"big_photo_unique_id\": \"AQAD4eDmki4AAyXFAwAB\"\n",
      "        },\n",
      "        \"dc_id\": 2\n",
      "    },\n",
      "    \"mentioned\": false,\n",
      "    \"scheduled\": false,\n",
      "    \"from_scheduled\": false,\n",
      "    \"media\": true,\n",
      "    \"caption_entities\": [\n",
      "        {\n",
      "            \"_\": \"MessageEntity\",\n",
      "            \"type\": \"bold\",\n",
      "            \"offset\": 3,\n",
      "            \"length\": 23\n",
      "        },\n",
      "        {\n",
      "            \"_\": \"MessageEntity\",\n",
      "            \"type\": \"bold\",\n",
      "            \"offset\": 29,\n",
      "            \"length\": 16\n",
      "        },\n",
      "        {\n",
      "            \"_\": \"MessageEntity\",\n",
      "            \"type\": \"bold\",\n",
      "            \"offset\": 58,\n",
      "            \"length\": 18\n",
      "        },\n",
      "        {\n",
      "            \"_\": \"MessageEntity\",\n",
      "            \"type\": \"bold\",\n",
      "            \"offset\": 81,\n",
      "            \"length\": 20\n",
      "        },\n",
      "        {\n",
      "            \"_\": \"MessageEntity\",\n",
      "            \"type\": \"bold\",\n",
      "            \"offset\": 138,\n",
      "            \"length\": 12\n",
      "        },\n",
      "        {\n",
      "            \"_\": \"MessageEntity\",\n",
      "            \"type\": \"bold\",\n",
      "            \"offset\": 156,\n",
      "            \"length\": 9\n",
      "        },\n",
      "        {\n",
      "            \"_\": \"MessageEntity\",\n",
      "            \"type\": \"bold\",\n",
      "            \"offset\": 173,\n",
      "            \"length\": 22\n",
      "        },\n",
      "        {\n",
      "            \"_\": \"MessageEntity\",\n",
      "            \"type\": \"bold\",\n",
      "            \"offset\": 220,\n",
      "            \"length\": 12\n",
      "        },\n",
      "        {\n",
      "            \"_\": \"MessageEntity\",\n",
      "            \"type\": \"bold\",\n",
      "            \"offset\": 238,\n",
      "            \"length\": 43\n",
      "        },\n",
      "        {\n",
      "            \"_\": \"MessageEntity\",\n",
      "            \"type\": \"url\",\n",
      "            \"offset\": 282,\n",
      "            \"length\": 25\n",
      "        }\n",
      "    ],\n",
      "    \"photo\": {\n",
      "        \"_\": \"Photo\",\n",
      "        \"file_id\": \"AgACAgIAAx0CVjokxAACARNgxowss3qU1txzoaHUmh9jOV0wjQACBrQxG8ktIUqWSVbliPPN4XSrIKQuAAMBAAMCAAN5AAMlUwIAAR4E\",\n",
      "        \"file_unique_id\": \"AQADdKsgpC4AAyVTAgAB\",\n",
      "        \"width\": 1080,\n",
      "        \"height\": 1080,\n",
      "        \"file_size\": 80476,\n",
      "        \"date\": \"2021-06-11 16:27:03\",\n",
      "        \"thumbs\": [\n",
      "            {\n",
      "                \"_\": \"Thumbnail\",\n",
      "                \"file_id\": \"AgACAgIAAx0CVjokxAACARNgxowss3qU1txzoaHUmh9jOV0wjQACBrQxG8ktIUqWSVbliPPN4XSrIKQuAAMBAAMCAANtAAMoUwIAAR4E\",\n",
      "                \"file_unique_id\": \"AQADdKsgpC4AAyhTAgAB\",\n",
      "                \"width\": 320,\n",
      "                \"height\": 320,\n",
      "                \"file_size\": 19131\n",
      "            },\n",
      "            {\n",
      "                \"_\": \"Thumbnail\",\n",
      "                \"file_id\": \"AgACAgIAAx0CVjokxAACARNgxowss3qU1txzoaHUmh9jOV0wjQACBrQxG8ktIUqWSVbliPPN4XSrIKQuAAMBAAMCAAN4AAMmUwIAAR4E\",\n",
      "                \"file_unique_id\": \"AQADdKsgpC4AAyZTAgAB\",\n",
      "                \"width\": 800,\n",
      "                \"height\": 800,\n",
      "                \"file_size\": 65699\n",
      "            }\n",
      "        ]\n",
      "    },\n",
      "    \"caption\": \"ℹ️ Nützliche Information\\n\\n🗓 Seit dem 7. Juni können auch Betriebsärzt:innen die Corona-Schutzimpfung verabreichen.\\n\\n⬆️ Dadurch kommt die Impfkampagne noch schneller voran. Fast 60 Mio. Impfdosen wurden bisher insgesamt verabreicht. \\n\\n🌐 Weitere Informationen und Daten zum Impfen: https://impfdashboard.de/\",\n",
      "    \"views\": 113311,\n",
      "    \"outgoing\": false\n",
      "}\n"
     ]
    }
   ],
   "source": [
    "print(messages[1])"
   ],
   "metadata": {
    "collapsed": false,
    "pycharm": {
     "name": "#%%\n"
    }
   }
  },
  {
   "cell_type": "code",
   "execution_count": 10,
   "outputs": [
    {
     "data": {
      "text/plain": "<pyrogram.client.Client at 0x19d36f93a30>"
     },
     "execution_count": 10,
     "metadata": {},
     "output_type": "execute_result"
    }
   ],
   "source": [
    "# Session beenden\n",
    "await app.stop()"
   ],
   "metadata": {
    "collapsed": false,
    "pycharm": {
     "name": "#%%\n"
    }
   }
  },
  {
   "cell_type": "code",
   "execution_count": 37,
   "outputs": [
    {
     "data": {
      "text/plain": "'D:\\\\Benutzer\\\\Jakob\\\\Dropbox\\\\Seminare\\\\Lehrbuch Computational Methods\\\\CM_GitHub\\\\6_datenerhebung\\\\6_2_apis\\\\telegram'"
     },
     "execution_count": 37,
     "metadata": {},
     "output_type": "execute_result"
    }
   ],
   "source": [],
   "metadata": {
    "collapsed": false,
    "pycharm": {
     "name": "#%%\n"
    }
   }
  },
  {
   "cell_type": "code",
   "execution_count": null,
   "outputs": [],
   "source": [
    "\n"
   ],
   "metadata": {
    "collapsed": false,
    "pycharm": {
     "name": "#%%\n"
    }
   }
  }
 ],
 "metadata": {
  "kernelspec": {
   "name": "pycharm-51377dd5",
   "language": "python",
   "display_name": "PyCharm (telegram)"
  },
  "language_info": {
   "codemirror_mode": {
    "name": "ipython",
    "version": 2
   },
   "file_extension": ".py",
   "mimetype": "text/x-python",
   "name": "python",
   "nbconvert_exporter": "python",
   "pygments_lexer": "ipython2",
   "version": "2.7.6"
  }
 },
 "nbformat": 4,
 "nbformat_minor": 0
}